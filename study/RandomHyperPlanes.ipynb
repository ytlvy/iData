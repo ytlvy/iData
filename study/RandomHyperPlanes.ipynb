{
 "cells": [
  {
   "cell_type": "code",
   "execution_count": 11,
   "id": "8c038433",
   "metadata": {},
   "outputs": [],
   "source": [
    "import numpy as np\n",
    "\n",
    "nbits = 4 #number of hyperplanes and binary vals to produce\n",
    "d     = 2 #vector dimensions"
   ]
  },
  {
   "cell_type": "code",
   "execution_count": 12,
   "id": "ccb7ff7a",
   "metadata": {},
   "outputs": [
    {
     "data": {
      "text/plain": [
       "array([[-0.42887053,  0.2169168 ],\n",
       "       [ 0.24903873,  0.42847606],\n",
       "       [ 0.2813722 , -0.26780729],\n",
       "       [ 0.02451008,  0.16421681]])"
      ]
     },
     "execution_count": 12,
     "metadata": {},
     "output_type": "execute_result"
    }
   ],
   "source": [
    "#create a set of 4 hyperplanes, with 2 dimensions\n",
    "plane_norms = np.random.rand(nbits, d) - .5\n",
    "plane_norms"
   ]
  },
  {
   "cell_type": "code",
   "execution_count": 13,
   "id": "8fe5be6f",
   "metadata": {},
   "outputs": [],
   "source": [
    "#hash vectors\n",
    "\n",
    "a = np.asarray([1, 2])\n",
    "b = np.asarray([2, 1])\n",
    "c = np.asarray([3, 1])\n"
   ]
  },
  {
   "cell_type": "code",
   "execution_count": 14,
   "id": "7b4732eb",
   "metadata": {},
   "outputs": [
    {
     "data": {
      "text/plain": [
       "(array([ 0.00496307,  1.10599086, -0.25424238,  0.35294371]),\n",
       " array([-0.64082426,  0.92655353,  0.29493712,  0.21323697]),\n",
       " array([-1.06969478,  1.17559226,  0.57630932,  0.23774704]))"
      ]
     },
     "execution_count": 14,
     "metadata": {},
     "output_type": "execute_result"
    }
   ],
   "source": [
    "#caculate the dot product for each of thess\n",
    "a_dot = np.dot(a, plane_norms.T)\n",
    "b_dot = np.dot(b, plane_norms.T)\n",
    "c_dot = np.dot(c, plane_norms.T)\n",
    "\n",
    "a_dot, b_dot, c_dot"
   ]
  },
  {
   "cell_type": "code",
   "execution_count": 15,
   "id": "a5b9cc1b",
   "metadata": {},
   "outputs": [
    {
     "data": {
      "text/plain": [
       "array([ True,  True, False,  True])"
      ]
     },
     "execution_count": 15,
     "metadata": {},
     "output_type": "execute_result"
    }
   ],
   "source": [
    "# we know that a positive dot product == +ve side of hyperplane\n",
    "# and negative dot product == -ve side of hyperplane\n",
    "\n",
    "a_dot = a_dot > 0\n",
    "b_dot = b_dot > 0\n",
    "c_dot = c_dot > 0\n",
    "\n",
    "a_dot"
   ]
  },
  {
   "cell_type": "code",
   "execution_count": 16,
   "id": "575bc0a1",
   "metadata": {},
   "outputs": [
    {
     "data": {
      "text/plain": [
       "array([1, 1, 0, 1])"
      ]
     },
     "execution_count": 16,
     "metadata": {},
     "output_type": "execute_result"
    }
   ],
   "source": [
    "# convert our boolen arrays to int arrays to make bucketing\n",
    "# easier (although is okay to use boolen for hamming distance)\n",
    "\n",
    "a_dot = a_dot.astype(int)\n",
    "b_dot = b_dot.astype(int)\n",
    "c_dot = c_dot.astype(int)\n",
    "\n",
    "a_dot"
   ]
  },
  {
   "cell_type": "code",
   "execution_count": 17,
   "id": "fbb2ff15",
   "metadata": {},
   "outputs": [
    {
     "data": {
      "text/plain": [
       "(array([0, 1, 1, 1]), array([0, 1, 1, 1]))"
      ]
     },
     "execution_count": 17,
     "metadata": {},
     "output_type": "execute_result"
    }
   ],
   "source": [
    "b_dot, c_dot"
   ]
  },
  {
   "cell_type": "code",
   "execution_count": 18,
   "id": "8905a419",
   "metadata": {},
   "outputs": [
    {
     "data": {
      "text/plain": [
       "{'1101': [0], '0111': [1, 2]}"
      ]
     },
     "execution_count": 18,
     "metadata": {},
     "output_type": "execute_result"
    }
   ],
   "source": [
    "vectors = [a_dot, b_dot, c_dot]\n",
    "buckets = {}\n",
    "i = 0\n",
    "\n",
    "for i in range(len(vectors)):\n",
    "    #convert from array to sring\n",
    "    hash_str = ''.join(vectors[i].astype(str))\n",
    "    \n",
    "    #create bucket if it doesn't exist\n",
    "    if hash_str not in buckets.keys():\n",
    "        buckets[hash_str] = []\n",
    "        \n",
    "    buckets[hash_str].append(i)\n",
    "\n",
    "buckets"
   ]
  },
  {
   "cell_type": "code",
   "execution_count": 19,
   "id": "cad3f14d",
   "metadata": {},
   "outputs": [
    {
     "name": "stdout",
     "output_type": "stream",
     "text": [
      "0000 | 0001 | 0010 | 0011 | 0100 | 0101 | 0110 | 0111 | 1000 | 1001 | 1010 | 1011 | 1100 | 1101 | 1110 | 1111 | "
     ]
    }
   ],
   "source": [
    "\n",
    "nbits = 4\n",
    "\n",
    "# we can print every possible bucket given our nbits value like so\n",
    "for i in range(1 << nbits):\n",
    "    #get binary representation of integer\n",
    "    b = bin(i)[2:]\n",
    "    # pad zeros to start of binary represention\n",
    "    b = '0' * (nbits- len(b)) + b\n",
    "    print(b, end=' | ')"
   ]
  },
  {
   "cell_type": "code",
   "execution_count": 20,
   "id": "ac99e680",
   "metadata": {},
   "outputs": [
    {
     "name": "stdout",
     "output_type": "stream",
     "text": [
      "nbits: 2, buckets: 4\n",
      "nbits: 4, buckets: 16\n",
      "nbits: 8, buckets: 256\n",
      "nbits: 16, buckets: 65536\n"
     ]
    }
   ],
   "source": [
    "for nbits in [2, 4, 8, 16]:\n",
    "    print(f\"nbits: {nbits}, buckets: {1 << nbits}\")"
   ]
  },
  {
   "cell_type": "markdown",
   "id": "0cd88271",
   "metadata": {},
   "source": [
    "##FAISS"
   ]
  },
  {
   "cell_type": "code",
   "execution_count": null,
   "id": "f4158fcf",
   "metadata": {},
   "outputs": [],
   "source": [
    "import faiss\n",
    "\n",
    "d = wb.shape[1]\n",
    "nbits = 4\n",
    "\n",
    "# initialize the index using our vectors dimesionality (128) and nbits\n",
    "index = faiss.IndexLSH(d, nbits)\n",
    "\n",
    "#then add the data\n",
    "index.add(wb)"
   ]
  }
 ],
 "metadata": {
  "kernelspec": {
   "display_name": "Python 3 (ipykernel)",
   "language": "python",
   "name": "python3"
  },
  "language_info": {
   "codemirror_mode": {
    "name": "ipython",
    "version": 3
   },
   "file_extension": ".py",
   "mimetype": "text/x-python",
   "name": "python",
   "nbconvert_exporter": "python",
   "pygments_lexer": "ipython3",
   "version": "3.8.16"
  }
 },
 "nbformat": 4,
 "nbformat_minor": 5
}
