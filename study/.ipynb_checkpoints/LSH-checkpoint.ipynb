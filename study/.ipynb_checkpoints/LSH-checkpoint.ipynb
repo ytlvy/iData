{
 "cells": [
  {
   "cell_type": "code",
   "execution_count": 4,
   "id": "f50cfec0",
   "metadata": {},
   "outputs": [],
   "source": [
    "a = \"A group of kids is playing in a yard and an ol\"\n",
    "b = \"A group of children is playing in the house an... \"\n",
    "c = \"he figured a few sticks of dynamite were easier than a fishing pole to catch fish\""
   ]
  },
  {
   "cell_type": "code",
   "execution_count": 5,
   "id": "9589df80",
   "metadata": {},
   "outputs": [],
   "source": [
    "def shingle(text: str, k: int):\n",
    "    shingle_set = []\n",
    "    for i in range(len(text) - k + 1):\n",
    "        shingle_set.append(text[i:i+k])\n",
    "    \n",
    "    return set(shingle_set)"
   ]
  },
  {
   "cell_type": "code",
   "execution_count": 6,
   "id": "d6b4430b",
   "metadata": {},
   "outputs": [],
   "source": [
    "k = 2\n",
    "a = shingle(a, k)\n",
    "b = shingle(b, k)\n",
    "c = shingle(c, k)"
   ]
  },
  {
   "cell_type": "code",
   "execution_count": 12,
   "id": "944ad8ae",
   "metadata": {},
   "outputs": [
    {
     "name": "stdout",
     "output_type": "stream",
     "text": [
      "32\n"
     ]
    }
   ],
   "source": [
    "print(len(a))"
   ]
  },
  {
   "cell_type": "code",
   "execution_count": 9,
   "id": "aceb276d",
   "metadata": {},
   "outputs": [],
   "source": [
    "vocab = a.union(b).union(c)"
   ]
  },
  {
   "cell_type": "code",
   "execution_count": 23,
   "id": "e42ded4f",
   "metadata": {},
   "outputs": [
    {
     "name": "stdout",
     "output_type": "stream",
     "text": [
      "102\n",
      "[[0. 0. 0. 0. 0. 0. 0. 0. 0. 0. 0. 0. 0. 0. 0. 0. 0. 0. 0. 0. 0. 0. 0. 0.\n",
      "  0. 0. 0. 0. 0. 0. 0. 0. 0. 0. 0. 0. 0. 0. 0. 0. 0. 0. 0. 0. 0. 0. 0. 0.\n",
      "  0. 0. 0. 0. 0. 0. 0. 0. 0. 0. 0. 0. 0. 0. 0. 0. 0. 0. 0. 0. 0. 0. 0. 0.\n",
      "  0. 0. 0. 0. 0. 0. 0. 0. 0. 0. 0. 0. 0. 0. 0. 0. 0. 0. 0. 0. 0. 0. 0. 0.\n",
      "  0. 0. 0. 0.]]\n"
     ]
    }
   ],
   "source": [
    "print(len(vocab))\n",
    "import numpy as np\n",
    "\n",
    "a_1 = np.zeros((1, 100))\n",
    "print(a_1)"
   ]
  },
  {
   "cell_type": "code",
   "execution_count": 24,
   "id": "993c3cf5",
   "metadata": {},
   "outputs": [
    {
     "name": "stdout",
     "output_type": "stream",
     "text": [
      "[[0. 0. 0. 0. 0. 0. 0. 0. 0. 0. 0. 0. 0. 0. 0. 0. 0. 0. 0. 0. 0. 0. 0. 0.\n",
      "  0. 0. 0. 0. 0. 0. 0. 0. 0. 0. 0. 0. 0. 0. 0. 0. 0. 0. 0. 0. 0. 0. 0. 0.\n",
      "  0. 0. 0. 0. 0. 0. 0. 0. 0. 0. 0. 0. 0. 0. 0. 0. 0. 0. 0. 0. 0. 0. 0. 0.\n",
      "  0. 0. 0. 0. 0. 0. 0. 0. 0. 0. 0. 0. 0. 0. 0. 0. 0. 0. 0. 0. 0. 0. 0. 0.\n",
      "  0. 0. 0. 0.]]\n"
     ]
    }
   ],
   "source": [
    "a_1 = np.array(a_1)\n",
    "print(a_1)"
   ]
  },
  {
   "cell_type": "code",
   "execution_count": 29,
   "id": "4aeff137",
   "metadata": {},
   "outputs": [
    {
     "data": {
      "text/plain": [
       "[0, 0, 0, 0, 0]"
      ]
     },
     "execution_count": 29,
     "metadata": {},
     "output_type": "execute_result"
    }
   ],
   "source": [
    "np.zeros((5,), dtype=int).tolist()"
   ]
  },
  {
   "cell_type": "code",
   "execution_count": 36,
   "id": "924aabda",
   "metadata": {},
   "outputs": [
    {
     "name": "stdout",
     "output_type": "stream",
     "text": [
      "[0, 0, 0, 1, 0, 1, 0, 0, 0, 1, 1, 0, 0, 0, 0, 0, 0, 1, 0, 0, 0, 1, 0, 0, 1, 0, 0, 1, 0, 1, 0, 1, 0, 1, 1, 0, 0, 1, 0, 0, 1, 0, 1, 0, 1, 1, 1, 0, 0, 0, 1, 1, 1, 0, 1, 0, 0, 0, 0, 0, 1, 0, 0, 0, 1, 0, 0, 1, 0, 0, 0, 0, 0, 0, 0, 0, 0, 1, 0, 1, 1, 0, 0, 0, 0, 0, 0, 0, 0, 0, 0, 1, 1, 1, 0, 0, 0, 0, 1, 0, 0, 0]\n"
     ]
    }
   ],
   "source": [
    "def create_one_hot(shingle_set: set, vocab: set):\n",
    "    one_hot = np.zeros((len(vocab), ), dtype=int).tolist()\n",
    "    for idx, val in enumerate(vocab):\n",
    "        if val in shingle_set:\n",
    "            one_hot[idx] = 1\n",
    "    return one_hot\n",
    "a_1hot = create_one_hot(a, vocab)\n",
    "print(a_1hot)"
   ]
  },
  {
   "cell_type": "code",
   "execution_count": 37,
   "id": "b7b640e2",
   "metadata": {},
   "outputs": [],
   "source": [
    "b_1hot = create_one_hot(b, vocab)\n",
    "c_1hot = create_one_hot(c, vocab)"
   ]
  },
  {
   "cell_type": "markdown",
   "id": "546537c7",
   "metadata": {},
   "source": [
    "### Generate a randomized MinHash vector"
   ]
  },
  {
   "cell_type": "code",
   "execution_count": 31,
   "id": "373e6403",
   "metadata": {},
   "outputs": [
    {
     "name": "stdout",
     "output_type": "stream",
     "text": [
      "[1, 2, 3, 4, 5, 6, 7, 8, 9, 10, 11, 12, 13, 14, 15, 16, 17, 18, 19, 20, 21, 22, 23, 24, 25, 26, 27, 28, 29, 30, 31, 32, 33, 34, 35, 36, 37, 38, 39, 40, 41, 42, 43, 44, 45, 46, 47, 48, 49, 50, 51, 52, 53, 54, 55, 56, 57, 58, 59, 60, 61, 62, 63, 64, 65, 66, 67, 68, 69, 70, 71, 72, 73, 74, 75, 76, 77, 78, 79, 80, 81, 82, 83, 84, 85, 86, 87, 88, 89, 90, 91, 92, 93, 94, 95, 96, 97, 98, 99, 100, 101]\n"
     ]
    }
   ],
   "source": [
    "hash_ex = list(range(1, len(vocab)))\n",
    "print(hash_ex)"
   ]
  },
  {
   "cell_type": "code",
   "execution_count": 14,
   "id": "f20900ad",
   "metadata": {},
   "outputs": [
    {
     "name": "stdout",
     "output_type": "stream",
     "text": [
      "[90, 21, 80, 73, 69, 3, 57, 49, 88, 95, 59, 38, 97, 11, 96, 29, 75, 79, 77, 32, 18, 1, 25, 12, 65, 7, 4, 84, 20, 53, 83, 23, 48, 86, 94, 98, 37, 85, 56, 42, 8, 51, 30, 46, 71, 5, 89, 58, 24, 39, 91, 31, 52, 61, 66, 100, 62, 99, 17, 33, 55, 19, 14, 92, 2, 101, 93, 41, 28, 47, 50, 70, 34, 68, 40, 9, 45, 22, 54, 63, 76, 78, 13, 67, 72, 36, 16, 35, 74, 26, 64, 10, 43, 82, 60, 81, 15, 27, 87, 44, 6]\n"
     ]
    }
   ],
   "source": [
    "from random import shuffle\n",
    "\n",
    "shuffle(hash_ex)\n",
    "print(hash_ex)"
   ]
  },
  {
   "cell_type": "code",
   "execution_count": 15,
   "id": "6a8ea781",
   "metadata": {},
   "outputs": [],
   "source": [
    "def create_hash_func(size: int):\n",
    "    # function for creating the hash vector/function\n",
    "    hash_ex = list(range(1, len(vocab)+1))\n",
    "    shuffle(hash_ex)\n",
    "    return hash_ex\n",
    "\n",
    "def build_minhash_func(vocab_size: int, nbits: int):\n",
    "    #function for building multiple minhash vectors\n",
    "    hashes = []\n",
    "    for _ in range(nbits):\n",
    "        hashes.append(create_hash_func(vocab_size))\n",
    "    return hashes"
   ]
  },
  {
   "cell_type": "code",
   "execution_count": 17,
   "id": "76e3a237",
   "metadata": {},
   "outputs": [],
   "source": [
    "minhash_func = build_minhash_func(len(vocab), 20)"
   ]
  },
  {
   "cell_type": "code",
   "execution_count": 18,
   "id": "963efb96",
   "metadata": {},
   "outputs": [],
   "source": [
    "def create_hash(vector: list):\n",
    "    #use this function for creating our signatures\n",
    "    signature = []\n",
    "    for func in minhash_func:\n",
    "        for i in range(1, len(vocab)+1):\n",
    "            idx = func.index(i)\n",
    "            val = vector[idx]\n",
    "            if val == 1:\n",
    "                signature.append(idx)\n",
    "                break\n",
    "                \n",
    "    return signature"
   ]
  },
  {
   "cell_type": "code",
   "execution_count": 38,
   "id": "7c0c4b15",
   "metadata": {},
   "outputs": [
    {
     "name": "stdout",
     "output_type": "stream",
     "text": [
      "[93, 64, 40, 46, 91, 45, 44, 80, 60, 50, 80, 17, 34, 80, 10, 46, 51, 27, 50, 77]\n"
     ]
    }
   ],
   "source": [
    "# now create signatures\n",
    "a_sig = create_hash(a_1hot)\n",
    "b_sig = create_hash(b_1hot)\n",
    "c_sig = create_hash(c_1hot)\n",
    "print(a_sig)"
   ]
  },
  {
   "cell_type": "code",
   "execution_count": 39,
   "id": "bb7ec684",
   "metadata": {},
   "outputs": [],
   "source": [
    "## Band and Hash\n",
    "def split_vector(signature:list, b:int):\n",
    "    assert len(signature) % b == 0\n",
    "    r = int(len(signature) / b)\n",
    "    \n",
    "    # code splitting signature in b parts\n",
    "    subvecs = []\n",
    "    for i in range(0, len(signature), r):\n",
    "        subvecs.append(signature[i : i+r])\n",
    "    return subvecs"
   ]
  },
  {
   "cell_type": "code",
   "execution_count": 40,
   "id": "870e1137",
   "metadata": {},
   "outputs": [
    {
     "data": {
      "text/plain": [
       "[[19, 99],\n",
       " [92, 23],\n",
       " [4, 6],\n",
       " [72, 14],\n",
       " [42, 50],\n",
       " [26, 2],\n",
       " [26, 13],\n",
       " [7, 94],\n",
       " [13, 1],\n",
       " [1, 77]]"
      ]
     },
     "execution_count": 40,
     "metadata": {},
     "output_type": "execute_result"
    }
   ],
   "source": [
    "band_a = split_vector(a_sig, 10)\n",
    "band_b = split_vector(b_sig, 10)\n",
    "band_b"
   ]
  },
  {
   "cell_type": "code",
   "execution_count": 41,
   "id": "6f4d4343",
   "metadata": {},
   "outputs": [
    {
     "data": {
      "text/plain": [
       "[[93, 61],\n",
       " [65, 32],\n",
       " [91, 46],\n",
       " [86, 14],\n",
       " [12, 50],\n",
       " [78, 29],\n",
       " [89, 22],\n",
       " [10, 43],\n",
       " [44, 27],\n",
       " [81, 32]]"
      ]
     },
     "execution_count": 41,
     "metadata": {},
     "output_type": "execute_result"
    }
   ],
   "source": [
    "band_c = split_vector(c_sig, 10)\n",
    "band_c"
   ]
  },
  {
   "cell_type": "code",
   "execution_count": 42,
   "id": "39cec1a8",
   "metadata": {},
   "outputs": [],
   "source": [
    "for b_rows, c_rows in zip(band_b, band_c):\n",
    "    if b_rows == c_rows:\n",
    "        print(f\"Candidate pair: {b_rows} == {c_rows}\")\n",
    "        # we only need one band to match\n",
    "        break"
   ]
  },
  {
   "cell_type": "code",
   "execution_count": 43,
   "id": "3a65cc39",
   "metadata": {},
   "outputs": [],
   "source": [
    "for a_rows, b_rows in zip(band_a, band_b):\n",
    "    if a_rows == b_rows:\n",
    "        print(f\"Candidate pair: {a_rows} == {b_rows}\")\n",
    "        # we only need one band to match\n",
    "        break"
   ]
  },
  {
   "cell_type": "code",
   "execution_count": 44,
   "id": "05b36fe0",
   "metadata": {},
   "outputs": [],
   "source": [
    "for a_rows, c_rows in zip(band_a, band_c):\n",
    "    if a_rows == c_rows:\n",
    "        print(f\"Candidate pair: {b_rows} == {c_rows}\")\n",
    "        # we only need one band to match\n",
    "        break"
   ]
  },
  {
   "cell_type": "code",
   "execution_count": null,
   "id": "65952114",
   "metadata": {},
   "outputs": [],
   "source": []
  }
 ],
 "metadata": {
  "kernelspec": {
   "display_name": "Python 3 (ipykernel)",
   "language": "python",
   "name": "python3"
  },
  "language_info": {
   "codemirror_mode": {
    "name": "ipython",
    "version": 3
   },
   "file_extension": ".py",
   "mimetype": "text/x-python",
   "name": "python",
   "nbconvert_exporter": "python",
   "pygments_lexer": "ipython3",
   "version": "3.8.16"
  }
 },
 "nbformat": 4,
 "nbformat_minor": 5
}
