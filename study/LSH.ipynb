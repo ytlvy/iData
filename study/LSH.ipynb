{
 "cells": [
  {
   "cell_type": "code",
   "execution_count": 45,
   "id": "54456f40",
   "metadata": {},
   "outputs": [],
   "source": [
    "a = \"A group of kids is playing in a yard and an ol\"\n",
    "b = \"A group of children is playing in the house an... \"\n",
    "c = \"he figured a few sticks of dynamite were easier than a fishing pole to catch fish\""
   ]
  },
  {
   "cell_type": "code",
   "execution_count": 46,
   "id": "8b388469",
   "metadata": {},
   "outputs": [],
   "source": [
    "def shingle(text: str, k: int):\n",
    "    shingle_set = []\n",
    "    for i in range(len(text) - k + 1):\n",
    "        shingle_set.append(text[i:i+k])\n",
    "    \n",
    "    return set(shingle_set)"
   ]
  },
  {
   "cell_type": "code",
   "execution_count": 47,
   "id": "bc692062",
   "metadata": {},
   "outputs": [],
   "source": [
    "k = 2\n",
    "a = shingle(a, k)\n",
    "b = shingle(b, k)\n",
    "c = shingle(c, k)"
   ]
  },
  {
   "cell_type": "code",
   "execution_count": 48,
   "id": "a04017d6",
   "metadata": {},
   "outputs": [
    {
     "name": "stdout",
     "output_type": "stream",
     "text": [
      "36\n"
     ]
    }
   ],
   "source": [
    "print(len(a))"
   ]
  },
  {
   "cell_type": "code",
   "execution_count": 49,
   "id": "7ac30539",
   "metadata": {},
   "outputs": [],
   "source": [
    "vocab = a.union(b).union(c)"
   ]
  },
  {
   "cell_type": "code",
   "execution_count": 50,
   "id": "9d109f6d",
   "metadata": {},
   "outputs": [
    {
     "name": "stdout",
     "output_type": "stream",
     "text": [
      "97\n",
      "[[0. 0. 0. 0. 0. 0. 0. 0. 0. 0. 0. 0. 0. 0. 0. 0. 0. 0. 0. 0. 0. 0. 0. 0.\n",
      "  0. 0. 0. 0. 0. 0. 0. 0. 0. 0. 0. 0. 0. 0. 0. 0. 0. 0. 0. 0. 0. 0. 0. 0.\n",
      "  0. 0. 0. 0. 0. 0. 0. 0. 0. 0. 0. 0. 0. 0. 0. 0. 0. 0. 0. 0. 0. 0. 0. 0.\n",
      "  0. 0. 0. 0. 0. 0. 0. 0. 0. 0. 0. 0. 0. 0. 0. 0. 0. 0. 0. 0. 0. 0. 0. 0.\n",
      "  0. 0. 0. 0.]]\n"
     ]
    }
   ],
   "source": [
    "print(len(vocab))\n",
    "import numpy as np\n",
    "\n",
    "a_1 = np.zeros((1, 100))\n",
    "print(a_1)"
   ]
  },
  {
   "cell_type": "code",
   "execution_count": 51,
   "id": "ffa78a4f",
   "metadata": {},
   "outputs": [
    {
     "name": "stdout",
     "output_type": "stream",
     "text": [
      "[[0. 0. 0. 0. 0. 0. 0. 0. 0. 0. 0. 0. 0. 0. 0. 0. 0. 0. 0. 0. 0. 0. 0. 0.\n",
      "  0. 0. 0. 0. 0. 0. 0. 0. 0. 0. 0. 0. 0. 0. 0. 0. 0. 0. 0. 0. 0. 0. 0. 0.\n",
      "  0. 0. 0. 0. 0. 0. 0. 0. 0. 0. 0. 0. 0. 0. 0. 0. 0. 0. 0. 0. 0. 0. 0. 0.\n",
      "  0. 0. 0. 0. 0. 0. 0. 0. 0. 0. 0. 0. 0. 0. 0. 0. 0. 0. 0. 0. 0. 0. 0. 0.\n",
      "  0. 0. 0. 0.]]\n"
     ]
    }
   ],
   "source": [
    "a_1 = np.array(a_1)\n",
    "print(a_1)"
   ]
  },
  {
   "cell_type": "code",
   "execution_count": 52,
   "id": "d273b9d0",
   "metadata": {},
   "outputs": [
    {
     "data": {
      "text/plain": [
       "[0, 0, 0, 0, 0]"
      ]
     },
     "execution_count": 52,
     "metadata": {},
     "output_type": "execute_result"
    }
   ],
   "source": [
    "np.zeros((5,), dtype=int).tolist()"
   ]
  },
  {
   "cell_type": "code",
   "execution_count": 53,
   "id": "568e0b53",
   "metadata": {},
   "outputs": [
    {
     "name": "stdout",
     "output_type": "stream",
     "text": [
      "[1, 1, 1, 1, 0, 1, 1, 1, 1, 0, 0, 0, 0, 1, 0, 0, 0, 0, 1, 0, 0, 1, 0, 1, 1, 0, 0, 1, 0, 1, 0, 1, 0, 0, 0, 0, 1, 0, 0, 0, 0, 0, 0, 0, 0, 0, 0, 0, 0, 1, 0, 1, 1, 1, 0, 1, 0, 0, 1, 0, 1, 0, 0, 0, 0, 0, 0, 1, 1, 1, 0, 1, 0, 1, 0, 1, 0, 0, 0, 1, 1, 0, 0, 0, 0, 0, 0, 0, 0, 0, 1, 1, 0, 1, 0, 1, 0]\n"
     ]
    }
   ],
   "source": [
    "def create_one_hot(shingle_set: set, vocab: set):\n",
    "    one_hot = np.zeros((len(vocab), ), dtype=int).tolist()\n",
    "    for idx, val in enumerate(vocab):\n",
    "        if val in shingle_set:\n",
    "            one_hot[idx] = 1\n",
    "    return one_hot\n",
    "a_1hot = create_one_hot(a, vocab)\n",
    "print(a_1hot)"
   ]
  },
  {
   "cell_type": "code",
   "execution_count": 54,
   "id": "b8600073",
   "metadata": {},
   "outputs": [],
   "source": [
    "b_1hot = create_one_hot(b, vocab)\n",
    "c_1hot = create_one_hot(c, vocab)"
   ]
  },
  {
   "cell_type": "markdown",
   "id": "097a3d2b",
   "metadata": {},
   "source": [
    "### Generate a randomized MinHash vector"
   ]
  },
  {
   "cell_type": "code",
   "execution_count": 55,
   "id": "4edc31d9",
   "metadata": {},
   "outputs": [
    {
     "name": "stdout",
     "output_type": "stream",
     "text": [
      "[1, 2, 3, 4, 5, 6, 7, 8, 9, 10, 11, 12, 13, 14, 15, 16, 17, 18, 19, 20, 21, 22, 23, 24, 25, 26, 27, 28, 29, 30, 31, 32, 33, 34, 35, 36, 37, 38, 39, 40, 41, 42, 43, 44, 45, 46, 47, 48, 49, 50, 51, 52, 53, 54, 55, 56, 57, 58, 59, 60, 61, 62, 63, 64, 65, 66, 67, 68, 69, 70, 71, 72, 73, 74, 75, 76, 77, 78, 79, 80, 81, 82, 83, 84, 85, 86, 87, 88, 89, 90, 91, 92, 93, 94, 95, 96]\n"
     ]
    }
   ],
   "source": [
    "hash_ex = list(range(1, len(vocab)))\n",
    "print(hash_ex)"
   ]
  },
  {
   "cell_type": "code",
   "execution_count": 56,
   "id": "8f56b471",
   "metadata": {},
   "outputs": [
    {
     "name": "stdout",
     "output_type": "stream",
     "text": [
      "[55, 90, 49, 54, 86, 1, 50, 88, 64, 35, 4, 57, 21, 52, 11, 69, 91, 39, 8, 76, 59, 48, 7, 56, 72, 75, 89, 70, 42, 46, 17, 96, 61, 25, 73, 14, 15, 37, 71, 80, 68, 18, 10, 79, 63, 77, 34, 30, 3, 95, 31, 36, 2, 32, 85, 33, 9, 43, 29, 87, 22, 78, 16, 5, 62, 24, 12, 65, 94, 51, 82, 20, 26, 27, 13, 93, 58, 92, 40, 45, 81, 23, 38, 67, 84, 66, 53, 44, 60, 83, 74, 19, 28, 41, 47, 6]\n"
     ]
    }
   ],
   "source": [
    "from random import shuffle\n",
    "\n",
    "shuffle(hash_ex)\n",
    "print(hash_ex)"
   ]
  },
  {
   "cell_type": "code",
   "execution_count": 57,
   "id": "64877033",
   "metadata": {},
   "outputs": [],
   "source": [
    "def create_hash_func(size: int):\n",
    "    # function for creating the hash vector/function\n",
    "    hash_ex = list(range(1, len(vocab)+1))\n",
    "    shuffle(hash_ex)\n",
    "    return hash_ex\n",
    "\n",
    "def build_minhash_func(vocab_size: int, nbits: int):\n",
    "    #function for building multiple minhash vectors\n",
    "    hashes = []\n",
    "    for _ in range(nbits):\n",
    "        hashes.append(create_hash_func(vocab_size))\n",
    "    return hashes"
   ]
  },
  {
   "cell_type": "code",
   "execution_count": 58,
   "id": "2c1351d5",
   "metadata": {},
   "outputs": [],
   "source": [
    "minhash_func = build_minhash_func(len(vocab), 20)"
   ]
  },
  {
   "cell_type": "code",
   "execution_count": 59,
   "id": "414c35fb",
   "metadata": {},
   "outputs": [],
   "source": [
    "def create_hash(vector: list):\n",
    "    #use this function for creating our signatures\n",
    "    signature = []\n",
    "    for func in minhash_func:\n",
    "        for i in range(1, len(vocab)+1):\n",
    "            idx = func.index(i)\n",
    "            val = vector[idx]\n",
    "            if val == 1:\n",
    "                signature.append(idx)\n",
    "                break\n",
    "                \n",
    "    return signature"
   ]
  },
  {
   "cell_type": "code",
   "execution_count": 60,
   "id": "5a331e13",
   "metadata": {},
   "outputs": [
    {
     "name": "stdout",
     "output_type": "stream",
     "text": [
      "[24, 53, 6, 24, 8, 31, 5, 75, 6, 93, 53, 1, 71, 31, 36, 75, 27, 24, 24, 1]\n"
     ]
    }
   ],
   "source": [
    "# now create signatures\n",
    "a_sig = create_hash(a_1hot)\n",
    "b_sig = create_hash(b_1hot)\n",
    "c_sig = create_hash(c_1hot)\n",
    "print(a_sig)"
   ]
  },
  {
   "cell_type": "code",
   "execution_count": 61,
   "id": "c1adc84f",
   "metadata": {},
   "outputs": [],
   "source": [
    "## Band and Hash\n",
    "def split_vector(signature:list, b:int):\n",
    "    assert len(signature) % b == 0\n",
    "    r = int(len(signature) / b)\n",
    "    \n",
    "    # code splitting signature in b parts\n",
    "    subvecs = []\n",
    "    for i in range(0, len(signature), r):\n",
    "        subvecs.append(signature[i : i+r])\n",
    "    return subvecs"
   ]
  },
  {
   "cell_type": "code",
   "execution_count": 67,
   "id": "cfb745cc",
   "metadata": {},
   "outputs": [
    {
     "data": {
      "text/plain": [
       "[[19, 53],\n",
       " [47, 47],\n",
       " [17, 31],\n",
       " [5, 10],\n",
       " [6, 93],\n",
       " [53, 1],\n",
       " [71, 31],\n",
       " [57, 7],\n",
       " [76, 30],\n",
       " [30, 96]]"
      ]
     },
     "execution_count": 67,
     "metadata": {},
     "output_type": "execute_result"
    }
   ],
   "source": [
    "band_a = split_vector(a_sig, 10)\n",
    "band_b = split_vector(b_sig, 10)\n",
    "band_b"
   ]
  },
  {
   "cell_type": "code",
   "execution_count": 68,
   "id": "b76563d2",
   "metadata": {},
   "outputs": [
    {
     "name": "stdout",
     "output_type": "stream",
     "text": [
      "[[24, 53], [6, 24], [8, 31], [5, 75], [6, 93], [53, 1], [71, 31], [36, 75], [27, 24], [24, 1]]\n"
     ]
    }
   ],
   "source": [
    "print(band_a)"
   ]
  },
  {
   "cell_type": "code",
   "execution_count": 63,
   "id": "1b2f1a3d",
   "metadata": {},
   "outputs": [
    {
     "data": {
      "text/plain": [
       "[[19, 46],\n",
       " [33, 46],\n",
       " [83, 92],\n",
       " [11, 15],\n",
       " [6, 64],\n",
       " [92, 72],\n",
       " [38, 25],\n",
       " [59, 75],\n",
       " [77, 39],\n",
       " [85, 96]]"
      ]
     },
     "execution_count": 63,
     "metadata": {},
     "output_type": "execute_result"
    }
   ],
   "source": [
    "band_c = split_vector(c_sig, 10)\n",
    "band_c"
   ]
  },
  {
   "cell_type": "code",
   "execution_count": 64,
   "id": "91576786",
   "metadata": {},
   "outputs": [],
   "source": [
    "for b_rows, c_rows in zip(band_b, band_c):\n",
    "    if b_rows == c_rows:\n",
    "        print(f\"Candidate pair: {b_rows} == {c_rows}\")\n",
    "        # we only need one band to match\n",
    "        break"
   ]
  },
  {
   "cell_type": "code",
   "execution_count": 65,
   "id": "de8a3991",
   "metadata": {},
   "outputs": [
    {
     "name": "stdout",
     "output_type": "stream",
     "text": [
      "Candidate pair: [6, 93] == [6, 93]\n"
     ]
    }
   ],
   "source": [
    "for a_rows, b_rows in zip(band_a, band_b):\n",
    "    if a_rows == b_rows:\n",
    "        print(f\"Candidate pair: {a_rows} == {b_rows}\")\n",
    "        # we only need one band to match\n",
    "        break"
   ]
  },
  {
   "cell_type": "code",
   "execution_count": 66,
   "id": "c45495d0",
   "metadata": {},
   "outputs": [],
   "source": [
    "for a_rows, c_rows in zip(band_a, band_c):\n",
    "    if a_rows == c_rows:\n",
    "        print(f\"Candidate pair: {b_rows} == {c_rows}\")\n",
    "        # we only need one band to match\n",
    "        break"
   ]
  },
  {
   "cell_type": "code",
   "execution_count": null,
   "id": "7e6c4e73",
   "metadata": {},
   "outputs": [],
   "source": []
  }
 ],
 "metadata": {
  "kernelspec": {
   "display_name": "Python 3 (ipykernel)",
   "language": "python",
   "name": "python3"
  },
  "language_info": {
   "codemirror_mode": {
    "name": "ipython",
    "version": 3
   },
   "file_extension": ".py",
   "mimetype": "text/x-python",
   "name": "python",
   "nbconvert_exporter": "python",
   "pygments_lexer": "ipython3",
   "version": "3.8.16"
  }
 },
 "nbformat": 4,
 "nbformat_minor": 5
}
